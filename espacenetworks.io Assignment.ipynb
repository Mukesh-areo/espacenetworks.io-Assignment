{
 "cells": [
  {
   "cell_type": "code",
   "execution_count": 2,
   "id": "22e3ba0f",
   "metadata": {},
   "outputs": [
    {
     "name": "stdout",
     "output_type": "stream",
     "text": [
      "[70, 100, 100]\n"
     ]
    }
   ],
   "source": [
    "def calculate_jitter(links):\n",
    "    \n",
    "    '''This function calculates the jitter for a given list of links. \n",
    "    Jitter represents the difference between the highest and lowest latencies among the links.\n",
    "    It helps determine the level of latency variation experienced by the traffic flowing through those links.'''\n",
    "    latencies = [link[0] for link in links]\n",
    "    jitter = max(latencies) - min(latencies)\n",
    "    return jitter\n",
    "\n",
    "def allocate_bandwidth(traffic_types, links):\n",
    "    allocated_bandwidths = []\n",
    "    '''This function takes a list of traffic types and a list of links as input. \n",
    "    It iterates over each traffic type and checks if the combined latency of the eligible links (links that maintain the jitter threshold) is within the acceptable limit. If the jitter is below the threshold, \n",
    "    the function calculates and stores the total bandwidth that can be allocated to that traffic type.'''\n",
    "    for traffic_type in traffic_types:\n",
    "        jitter_threshold = traffic_type[1]\n",
    "        eligible_links = []\n",
    "\n",
    "        for link in links:\n",
    "            if calculate_jitter(eligible_links + [link]) <= jitter_threshold:\n",
    "                eligible_links.append(link)\n",
    "\n",
    "        total_bandwidth = sum(link[1] for link in eligible_links)\n",
    "        allocated_bandwidths.append(total_bandwidth)\n",
    "\n",
    "    return allocated_bandwidths\n",
    "\n"
   ]
  },
  {
   "cell_type": "code",
   "execution_count": 5,
   "id": "bdac3d67",
   "metadata": {},
   "outputs": [
    {
     "name": "stdout",
     "output_type": "stream",
     "text": [
      "[590, 690, 730, 455, 730, 615, 730, 630, 715, 555, 730, 730, 615, 690, 590, 730, 555, 730, 630, 715]\n"
     ]
    }
   ],
   "source": [
    "# Example usage\n",
    "#traffic_types = [(1, 120), (2, 150), (3, 180)]  # List of (traffic_type_id, jitter_threshold)\n",
    "#links = [(200, 50), (300, 20), (150, 30)]  # List of (latency, bandwidth)\n",
    "links = [\n",
    "    (200, 50),\n",
    "    (300, 20),\n",
    "    (150, 30),\n",
    "    (250, 40),\n",
    "    (180, 35),\n",
    "    (220, 25),\n",
    "    (280, 45),\n",
    "    (190, 55),\n",
    "    (320, 15),\n",
    "    (210, 50),\n",
    "    (275, 40),\n",
    "    (165, 30),\n",
    "    (230, 35),\n",
    "    (310, 25),\n",
    "    (195, 45),\n",
    "    (270, 55),\n",
    "    (240, 15),\n",
    "    (285, 50),\n",
    "    (175, 40),\n",
    "    (205, 30)\n",
    "]\n",
    "traffic_types = [\n",
    "    (1, 120),\n",
    "    (2, 150),\n",
    "    (3, 180),\n",
    "    (4, 100),\n",
    "    (5, 200),\n",
    "    (6, 130),\n",
    "    (7, 170),\n",
    "    (8, 140),\n",
    "    (9, 160),\n",
    "    (10, 110),\n",
    "    (11, 190),\n",
    "    (12, 170),\n",
    "    (13, 130),\n",
    "    (14, 150),\n",
    "    (15, 120),\n",
    "    (16, 200),\n",
    "    (17, 110),\n",
    "    (18, 180),\n",
    "    (19, 140),\n",
    "    (20, 160)\n",
    "]\n",
    "\n",
    "result = allocate_bandwidth(traffic_types, links)\n",
    "print(result)\n"
   ]
  },
  {
   "cell_type": "code",
   "execution_count": null,
   "id": "2dcaeb06",
   "metadata": {},
   "outputs": [],
   "source": []
  }
 ],
 "metadata": {
  "kernelspec": {
   "display_name": "Python 3 (ipykernel)",
   "language": "python",
   "name": "python3"
  },
  "language_info": {
   "codemirror_mode": {
    "name": "ipython",
    "version": 3
   },
   "file_extension": ".py",
   "mimetype": "text/x-python",
   "name": "python",
   "nbconvert_exporter": "python",
   "pygments_lexer": "ipython3",
   "version": "3.9.13"
  }
 },
 "nbformat": 4,
 "nbformat_minor": 5
}
